{
 "cells": [
  {
   "cell_type": "code",
   "execution_count": 1,
   "id": "2cb42170",
   "metadata": {},
   "outputs": [
    {
     "name": "stdout",
     "output_type": "stream",
     "text": [
      "Requirement already satisfied: bin2coe in /home/natasha/.local/lib/python3.8/site-packages (1.1.0)\n",
      "Note: you may need to restart the kernel to use updated packages.\n"
     ]
    }
   ],
   "source": [
    "pip install bin2coe"
   ]
  },
  {
   "cell_type": "code",
   "execution_count": 44,
   "id": "727d566b",
   "metadata": {},
   "outputs": [],
   "source": [
    "import os\n",
    "\n",
    "program_name = \"blink_lower_2_LEDs\"\n",
    "program_path = os.path.join(\"..\",\"test_programs\", program_name)\n",
    "risc_toolchain = \"riscv32-unknown-elf\""
   ]
  },
  {
   "cell_type": "code",
   "execution_count": 45,
   "id": "cdfa45ab",
   "metadata": {},
   "outputs": [],
   "source": [
    "import subprocess\n",
    "\n",
    "def run(command, cwd=None):\n",
    "    print(command)\n",
    "    completedProcess = subprocess.run(command, stdout=subprocess.PIPE, stderr=subprocess.STDOUT, cwd=cwd, shell=True)\n",
    "    print(completedProcess.stdout.decode(\"utf-8\") )\n",
    "    return completedProcess.returncode == 0"
   ]
  },
  {
   "cell_type": "code",
   "execution_count": 46,
   "id": "d7685ddd",
   "metadata": {},
   "outputs": [
    {
     "name": "stdout",
     "output_type": "stream",
     "text": [
      "make clean exe\n",
      "/home/natasha/prebuilt_riscv_toolchain/bin/../lib/gcc/riscv32-unknown-elf/10.2.0/../../../../riscv32-unknown-elf/bin/ld:../../programming/neorv32.ld:0: warning: memory region `iodev' not declared\n",
      "Memory utilization:\n",
      "   text\t   data\t    bss\t    dec\t    hex\tfilename\n",
      "    420\t      0\t      0\t    420\t    1a4\tmain.elf\n",
      "Executable (neorv32_exe.bin) size in bytes:\n",
      "432\n",
      "\n",
      "mv main.bin blink_lower_2_LEDs.bin\n",
      "\n"
     ]
    }
   ],
   "source": [
    "_ = run(\"make clean exe\", cwd=program_path)\n",
    "_ = run(\"mv main.bin \" + program_name + \".bin\", cwd=program_path)"
   ]
  },
  {
   "cell_type": "code",
   "execution_count": 47,
   "id": "338ec750",
   "metadata": {},
   "outputs": [
    {
     "name": "stdout",
     "output_type": "stream",
     "text": [
      "riscv32-unknown-elf-objdump -D main.elf > blink_lower_2_LEDs.objdump\n",
      "\n"
     ]
    }
   ],
   "source": [
    "4# Disassemble the compiled file\n",
    "_ = run(risc_toolchain + \"-objdump -D main.elf > \" + program_name + \".objdump\", cwd=program_path) "
   ]
  },
  {
   "cell_type": "code",
   "execution_count": 48,
   "id": "5f71b387",
   "metadata": {},
   "outputs": [
    {
     "name": "stdout",
     "output_type": "stream",
     "text": [
      "bin2coe -i blink_lower_2_LEDs.bin -o blink_lower_2_LEDs.coe -w 32\n",
      "\n"
     ]
    }
   ],
   "source": [
    "\n",
    "       \n",
    "_ = run(\"bin2coe -i \" + program_name + \".bin -o \" + program_name + \".coe -w 32\", cwd=program_path)\n",
    "\n",
    "#!bin2coe -i \"G:/xilinx/riscv/picorv32/software/btn_led/btn_led.bin\" -w 32 -o \"G:\\xilinx\\riscv\\picorv32\\software\\btn_led\\btn_led.coe\""
   ]
  },
  {
   "cell_type": "code",
   "execution_count": null,
   "id": "177160f9",
   "metadata": {},
   "outputs": [],
   "source": []
  }
 ],
 "metadata": {
  "kernelspec": {
   "display_name": "Python 3",
   "language": "python",
   "name": "python3"
  },
  "language_info": {
   "codemirror_mode": {
    "name": "ipython",
    "version": 3
   },
   "file_extension": ".py",
   "mimetype": "text/x-python",
   "name": "python",
   "nbconvert_exporter": "python",
   "pygments_lexer": "ipython3",
   "version": "3.8.5"
  }
 },
 "nbformat": 4,
 "nbformat_minor": 5
}
