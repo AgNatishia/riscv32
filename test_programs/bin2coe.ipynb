{
 "cells": [
  {
   "cell_type": "code",
   "execution_count": 1,
   "metadata": {},
   "outputs": [
    {
     "name": "stdout",
     "output_type": "stream",
     "text": [
      "Collecting bin2coe\n",
      "  Downloading https://files.pythonhosted.org/packages/97/49/3aefc70987f6a24554656fb86804d3c8f9e13d4b0bfb1c702cc867fa219b/bin2coe-1.1.0-py3-none-any.whl\n",
      "Installing collected packages: bin2coe\n",
      "Successfully installed bin2coe-1.1.0\n",
      "Note: you may need to restart the kernel to use updated packages.\n"
     ]
    }
   ],
   "source": [
    "#pip install bin2coe"
   ]
  },
  {
   "cell_type": "code",
   "execution_count": 1,
   "metadata": {},
   "outputs": [],
   "source": [
    "from bin2coe import *"
   ]
  },
  {
   "cell_type": "code",
   "execution_count": 2,
   "metadata": {},
   "outputs": [
    {
     "name": "stdout",
     "output_type": "stream",
     "text": [
      "b\"\\x13\\x00\\x00\\x00\\x93\\x00\\x00\\x007\\x01\\x02\\x00\\x13\\x01\\xc1\\xff\\x93\\x01\\x00\\x00\\x13\\x02\\x00\\x00\\x93\\x02\\x00\\x00\\x13\\x03\\x00\\x00\\x93\\x03\\x00\\x00\\x13\\x04\\x00\\x00\\x93\\x04\\x00\\x00\\x03%\\xc1\\xff\\x83%\\x81\\xff\\x13\\x06\\x00\\x00\\x93\\x06\\x00\\x00\\x13\\x07\\x00\\x00\\x93\\x07\\x00\\x00\\x13\\x08\\x00\\x00\\x93\\x08\\x00\\x00\\x13\\t\\x00\\x00\\x93\\t\\x00\\x00\\x13\\n\\x00\\x00\\x93\\n\\x00\\x00\\x13\\x0b\\x00\\x00\\x93\\x0b\\x00\\x00\\x13\\x0c\\x00\\x00\\x93\\x0c\\x00\\x00\\x13\\r\\x00\\x00\\x93\\r\\x00\\x00\\x13\\x0e\\x00\\x00\\x93\\x0e\\x00\\x00\\x13\\x0f\\x00\\x00\\x93\\x0f\\x00\\x00\\xef\\x00\\xc0\\x07#,\\xb1\\xfe#.\\xa1\\xfes\\x00\\x10\\x00\\x00\\x00\\x00\\x00\\x00\\x00\\x00\\x00\\x00\\x00\\x00\\x00\\x00\\x00\\x00\\x00\\x00\\x00\\x00\\x00\\x00\\x00\\x00\\x00\\x00\\x00\\x00\\x00\\x00\\x00\\x00\\x00\\x00\\x00\\x00\\x00\\x00\\x00\\x00\\x00\\x00\\x00\\x00\\x00\\x00\\x00\\x00\\x00\\x00\\x00\\x00\\x00\\x00\\x00\\x00\\x00\\x00\\x00\\x00\\x00\\x00\\x00\\x00\\x00\\x00\\x00\\x00\\x00\\x00\\x00\\x00\\x00\\x00\\x00\\x00\\x00\\x00\\x00\\x00\\x00\\x00\\x00\\x00\\x00\\x00\\x00\\x00\\x00\\x00\\x00\\x00\\x00\\x00\\x00\\x00\\x00\\x00\\x00\\x00\\x00\\x00\\x00\\x00\\x00\\x00\\x00\\x00\\x00\\x13\\x01\\x01\\xfe#.\\x81\\x00\\x13\\x04\\x01\\x02\\xb7\\x07\\x01@#&\\xf4\\xfe\\xb7\\x07\\x02@#$\\xf4\\xfe\\x83'\\xc4\\xfe\\x93\\x87G\\x00\\x13\\x07\\xf0\\x0f#\\xa0\\xe7\\x00\\x83'\\x84\\xfe\\x93\\x87G\\x00#\\xa0\\x07\\x00\\x83'\\xc4\\xfe\\x03\\xa7\\x07\\x00\\x83'\\x84\\xfe#\\xa0\\xe7\\x00o\\xf0\\x1f\\xffGCC: (GNU) 8.2.0\\x0000000000000\"\n"
     ]
    }
   ],
   "source": [
    "import os\n",
    "INPUT = \"G:/xilinx/riscv/picorv32/software/btn_led/btn_led.bin\"\n",
    "length = (os.path.getsize(INPUT))\n",
    "\n",
    "b = bytes(\"0\", 'utf-8')\n",
    "\n",
    "with open(INPUT, \"ab\") as myfile:\n",
    "    for i in range(4-length%4):\n",
    "        myfile.write(b)\n",
    "        \n",
    "with open(INPUT, 'rb') as f:\n",
    "        data = f.read()\n",
    "        print(data)\n",
    "        \n",
    "!bin2coe -i \"G:/xilinx/riscv/picorv32/software/btn_led/btn_led.bin\" -w 32 -o \"G:\\xilinx\\riscv\\picorv32\\software\\btn_led\\btn_led.coe\""
   ]
  },
  {
   "cell_type": "code",
   "execution_count": null,
   "metadata": {},
   "outputs": [],
   "source": [
    "import time\n",
    "start = time.time() \n",
    "r = [1,2,3,4,5]\n",
    "k =[]\n",
    "for i in range(len(r)):\n",
    "    k.append(3.14*r[i]*r[i])\n",
    "end = time.time()\n",
    "print(\"Time taken: \" + str(end-start))"
   ]
  },
  {
   "cell_type": "code",
   "execution_count": 26,
   "metadata": {},
   "outputs": [
    {
     "name": "stdout",
     "output_type": "stream",
     "text": [
      "Time taken: 37.541592836380005\n"
     ]
    }
   ],
   "source": [
    "start = time.time() \n",
    "k =[]\n",
    "for i in range(len(r)):\n",
    "    k.append(3.14*r[i]*r[i])\n",
    "end = time.time()\n",
    "print(\"Time taken: \" + str(end-start))"
   ]
  },
  {
   "cell_type": "code",
   "execution_count": 27,
   "metadata": {},
   "outputs": [
    {
     "name": "stdout",
     "output_type": "stream",
     "text": [
      "Time taken: 37.81966686248779\n"
     ]
    }
   ],
   "source": [
    "k =[]\n",
    "for i in range(len(r)):\n",
    "    k.append(3.14*r[i]*r[i])\n",
    "end = time.time()\n",
    "print(\"Time taken: \" + str(end-start))"
   ]
  },
  {
   "cell_type": "code",
   "execution_count": 28,
   "metadata": {},
   "outputs": [
    {
     "name": "stdout",
     "output_type": "stream",
     "text": [
      "Time taken: 38.28879475593567\n"
     ]
    }
   ],
   "source": [
    "k =[]\n",
    "for i in range(len(r)):\n",
    "    k.append(3.14*r[i]*r[i])\n",
    "end = time.time()\n",
    "print(\"Time taken: \" + str(end-start))"
   ]
  },
  {
   "cell_type": "code",
   "execution_count": 29,
   "metadata": {},
   "outputs": [
    {
     "name": "stdout",
     "output_type": "stream",
     "text": [
      "Time taken: 39.41094970703125\n"
     ]
    }
   ],
   "source": [
    "k =[]\n",
    "for i in range(len(r)):\n",
    "    k.append(3.14*r[i]*r[i])\n",
    "end = time.time()\n",
    "print(\"Time taken: \" + str(end-start))"
   ]
  },
  {
   "cell_type": "code",
   "execution_count": 5,
   "metadata": {},
   "outputs": [
    {
     "data": {
      "text/plain": [
       "5"
      ]
     },
     "execution_count": 5,
     "metadata": {},
     "output_type": "execute_result"
    }
   ],
   "source": [
    "len(r)"
   ]
  },
  {
   "cell_type": "code",
   "execution_count": 10,
   "metadata": {},
   "outputs": [
    {
     "name": "stdout",
     "output_type": "stream",
     "text": [
      "G:/xilinx/riscv/picorv32/software/btn_led/btn_led.bin\n"
     ]
    }
   ],
   "source": [
    "print(INPUT)"
   ]
  }
 ],
 "metadata": {
  "kernelspec": {
   "display_name": "Python 3",
   "language": "python",
   "name": "python3"
  },
  "language_info": {
   "codemirror_mode": {
    "name": "ipython",
    "version": 3
   },
   "file_extension": ".py",
   "mimetype": "text/x-python",
   "name": "python",
   "nbconvert_exporter": "python",
   "pygments_lexer": "ipython3",
   "version": "3.8.5"
  }
 },
 "nbformat": 4,
 "nbformat_minor": 2
}
