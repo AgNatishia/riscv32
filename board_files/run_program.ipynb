{
 "cells": [
  {
   "cell_type": "code",
   "execution_count": 11,
   "metadata": {},
   "outputs": [],
   "source": [
    "overlay_path = r\"../../neorv/rv32i_overlay.bit\"\n",
    "program_name = \"blink_all_LEDs\""
   ]
  },
  {
   "cell_type": "code",
   "execution_count": 12,
   "metadata": {},
   "outputs": [],
   "source": [
    "from pynq.overlay import Overlay\n",
    "neo_overlay = Overlay(overlay_path)"
   ]
  },
  {
   "cell_type": "code",
   "execution_count": 13,
   "metadata": {},
   "outputs": [],
   "source": [
    "from pynq import GPIO\n",
    "\n",
    "neo_reset_n = GPIO(GPIO.get_gpio_pin(0), 'out')\n",
    "neo_reset_n.write(1)\n"
   ]
  },
  {
   "cell_type": "code",
   "execution_count": 14,
   "metadata": {},
   "outputs": [],
   "source": [
    "# Wrtie bin file to memory\n",
    "little_endian = False\n",
    "BRAM_data = [] \n",
    "with open(program_name + \".bin\", \"rb\") as f:\n",
    "    addr = 0\n",
    "    raw_bytes = raw_bytes = f.read(4)\n",
    "    while raw_bytes != b\"\":\n",
    "        if little_endian:\n",
    "            BRAM_data.append(\n",
    "                sum([\n",
    "                    raw_bytes[0] << 3*8,\n",
    "                    raw_bytes[1] << 2*8,\n",
    "                    raw_bytes[2] << 1*8,\n",
    "                    raw_bytes[3] << 0*8,\n",
    "                ])\n",
    "            )   \n",
    "        else:\n",
    "            BRAM_data.append(\n",
    "                sum([\n",
    "                    raw_bytes[3] << 3*8,\n",
    "                    raw_bytes[2] << 2*8,\n",
    "                    raw_bytes[1] << 1*8,\n",
    "                    raw_bytes[0] << 0*8,\n",
    "                ])\n",
    "            )\n",
    "\n",
    "        addr += 4\n",
    "        raw_bytes = f.read(4)\n",
    "\n",
    "#for addr, data in enumerate(BRAM_data):#\n",
    "#    print(hex(4*addr)[2:], hex(data)[2:])\n",
    "\n",
    "neo_reset_n.write(0)\n",
    "\n",
    "for addr, word in enumerate(BRAM_data):\n",
    "    neo_overlay.pynq_BRAM_controller.write(4*addr, word)\n",
    "\n",
    "neo_reset_n.write(1)"
   ]
  },
  {
   "cell_type": "code",
   "execution_count": 15,
   "metadata": {},
   "outputs": [],
   "source": [
    "# Neo kickoff\n",
    "\n",
    "neo_reset_n.write(0)\n",
    "\n",
    "for _ in range(2**10):\n",
    "    pass\n",
    "    \n",
    "neo_reset_n.write(1)"
   ]
  },
  {
   "cell_type": "code",
   "execution_count": null,
   "metadata": {},
   "outputs": [],
   "source": []
  }
 ],
 "metadata": {
  "kernelspec": {
   "display_name": "Python 3",
   "language": "python",
   "name": "python3"
  },
  "language_info": {
   "codemirror_mode": {
    "name": "ipython",
    "version": 3
   },
   "file_extension": ".py",
   "mimetype": "text/x-python",
   "name": "python",
   "nbconvert_exporter": "python",
   "pygments_lexer": "ipython3",
   "version": "3.6.5"
  }
 },
 "nbformat": 4,
 "nbformat_minor": 2
}
